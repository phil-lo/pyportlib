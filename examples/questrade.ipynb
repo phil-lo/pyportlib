{
 "cells": [
  {
   "cell_type": "code",
   "execution_count": 5,
   "metadata": {
    "collapsed": true
   },
   "outputs": [],
   "source": [
    "import pyportlib"
   ]
  },
  {
   "cell_type": "markdown",
   "source": [
    "# Questrade Connection Example"
   ],
   "metadata": {
    "collapsed": false
   }
  },
  {
   "cell_type": "code",
   "execution_count": 6,
   "outputs": [
    {
     "name": "stderr",
     "output_type": "stream",
     "text": [
      "2022-05-08 10:13:20,310:ERROR:no market value computed for BPY.UN.TO: in compute_market_value\n",
      "2022-05-08 10:13:20,345:ERROR:no market value computed for LGND: in compute_market_value\n"
     ]
    }
   ],
   "source": [
    "ptf = pyportlib.Portfolio(account='questrade_tfsa', currency=\"CAD\")"
   ],
   "metadata": {
    "collapsed": false,
    "pycharm": {
     "name": "#%%\n"
    }
   }
  },
  {
   "cell_type": "markdown",
   "source": [
    "### You need to get your own Questrade refresh token from your questrade account\n",
    "\n",
    "You need your account name. Here it is the TFSA account, but there might be a Margin account etc."
   ],
   "metadata": {
    "collapsed": false
   }
  },
  {
   "cell_type": "code",
   "execution_count": 7,
   "outputs": [],
   "source": [
    "refresh_token=\"asldkasldkhsalkdsh\"\n",
    "questrade = pyportlib.QuestradeConnection(account_name='tfsa', refresh_token=refresh_token)"
   ],
   "metadata": {
    "collapsed": false,
    "pycharm": {
     "name": "#%%\n"
    }
   }
  },
  {
   "cell_type": "markdown",
   "source": [
    "### Here we only update the market data of the Portfolio and benchmark for"
   ],
   "metadata": {
    "collapsed": false
   }
  },
  {
   "cell_type": "code",
   "execution_count": 8,
   "outputs": [
    {
     "name": "stdout",
     "output_type": "stream",
     "text": [
      "\n",
      "1 Failed download:\n",
      "- BPY-UN.TO: No data found, symbol may be delisted\n"
     ]
    },
    {
     "name": "stderr",
     "output_type": "stream",
     "text": [
      "2022-05-08 10:13:54,805:ERROR:no market value computed for BPY.UN.TO: in compute_market_value\n",
      "2022-05-08 10:13:54,837:ERROR:no market value computed for LGND: in compute_market_value\n"
     ]
    }
   ],
   "source": [
    "ptf.update_data(fundamentals_and_dividends=False)"
   ],
   "metadata": {
    "collapsed": false,
    "pycharm": {
     "name": "#%%\n"
    }
   }
  },
  {
   "cell_type": "markdown",
   "source": [
    "### Here we update the transactions and cash changes of the Portfolio"
   ],
   "metadata": {
    "collapsed": false
   }
  },
  {
   "cell_type": "code",
   "execution_count": 9,
   "outputs": [],
   "source": [
    "questrade.update_ptf(portfolio=ptf)"
   ],
   "metadata": {
    "collapsed": false,
    "pycharm": {
     "name": "#%%\n"
    }
   }
  },
  {
   "cell_type": "markdown",
   "source": [
    "The data should update in the account files in your client data directory"
   ],
   "metadata": {
    "collapsed": false
   }
  },
  {
   "cell_type": "markdown",
   "source": [
    "## Example of data accessible directly from Questrade"
   ],
   "metadata": {
    "collapsed": false
   }
  },
  {
   "cell_type": "code",
   "execution_count": 10,
   "outputs": [
    {
     "name": "stdout",
     "output_type": "stream",
     "text": [
      "Questrade\n",
      "Cash CAD: $626.31\n",
      "Market Value CAD: $16932.62\n",
      "Total Equity CAD: $17558.93\n",
      "\n",
      "pyportlib\n",
      "Cash CAD: $636.17\n",
      "Market Value CAD: $16862.15\n",
      "Total Equity CAD: $17498.32\n"
     ]
    }
   ],
   "source": [
    "cash_cad = questrade.get_balances().get(\"combinedBalances\")[0].get(\"cash\")\n",
    "equity_cad = questrade.get_balances().get(\"combinedBalances\")[0].get(\"totalEquity\")\n",
    "mv_cad = questrade.get_balances().get(\"combinedBalances\")[0].get(\"marketValue\")\n",
    "\n",
    "print(\"Questrade\")\n",
    "print(f\"Cash CAD: ${round(cash_cad, 2)}\")\n",
    "print(f\"Market Value CAD: ${round(mv_cad, 2)}\")\n",
    "print(f\"Total Equity CAD: ${round(equity_cad, 2)}\\n\")\n",
    "\n",
    "print(\"pyportlib\")\n",
    "print(f\"Cash CAD: ${round(ptf.cash_history.iloc[-1], 2)}\")\n",
    "print(f\"Market Value CAD: ${round(ptf.market_value.iloc[-1], 2)}\")\n",
    "print(f\"Total Equity CAD: ${round(ptf.market_value.iloc[-1] + ptf.cash_history.iloc[-1], 2)}\")"
   ],
   "metadata": {
    "collapsed": false,
    "pycharm": {
     "name": "#%%\n"
    }
   }
  }
 ],
 "metadata": {
  "kernelspec": {
   "display_name": "Python 3",
   "language": "python",
   "name": "python3"
  },
  "language_info": {
   "codemirror_mode": {
    "name": "ipython",
    "version": 2
   },
   "file_extension": ".py",
   "mimetype": "text/x-python",
   "name": "python",
   "nbconvert_exporter": "python",
   "pygments_lexer": "ipython2",
   "version": "2.7.6"
  }
 },
 "nbformat": 4,
 "nbformat_minor": 0
}