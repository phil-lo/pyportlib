{
 "cells": [
  {
   "cell_type": "markdown",
   "source": [
    "# Base example\n",
    "\n",
    "to get started:\n"
   ],
   "metadata": {
    "collapsed": false
   }
  },
  {
   "cell_type": "code",
   "execution_count": 21,
   "outputs": [],
   "source": [
    "import portofolio as porto"
   ],
   "metadata": {
    "collapsed": false,
    "pycharm": {
     "name": "#%%\n"
    }
   }
  },
  {
   "cell_type": "markdown",
   "source": [
    "A few folders should have been created in your source directory\n",
    "    1. client data\n",
    "        a) accounts - where all your account information will be stored (transactions and cash)\n",
    "        b) data - price and fx data will be stored and retreived from that location\n",
    "        c) outputs - reporting html files will be saved there\n",
    "    2. config\n",
    "        a) a default config file has been created, api keys for the selected source needs to be entered"
   ],
   "metadata": {
    "collapsed": false
   }
  },
  {
   "cell_type": "markdown",
   "source": [
    "Creating a new portfolio"
   ],
   "metadata": {
    "collapsed": false
   }
  },
  {
   "cell_type": "code",
   "execution_count": 22,
   "outputs": [
    {
     "name": "stdout",
     "output_type": "stream",
     "text": [
      "Empty DataFrame\n",
      "Columns: [Ticker, Type, Quantity, Price, Fees, Currency]\n",
      "Index: []\n",
      "2022-01-24    0\n",
      "2022-01-25    0\n",
      "2022-01-26    0\n",
      "2022-01-27    0\n",
      "2022-01-28    0\n",
      "dtype: int64\n"
     ]
    }
   ],
   "source": [
    "portfolio = porto.Portfolio(account='Example', currency=\"USD\")\n",
    "portfolio.reset_transactions()\n",
    "portfolio.reset_cash()\n",
    "print(portfolio.transactions)\n",
    "print(portfolio.cash_history)"
   ],
   "metadata": {
    "collapsed": false,
    "pycharm": {
     "name": "#%%\n"
    }
   }
  },
  {
   "cell_type": "markdown",
   "source": [
    "Now we want to add a transaction"
   ],
   "metadata": {
    "collapsed": false
   }
  },
  {
   "cell_type": "code",
   "metadata": {
    "pycharm": {
     "name": "#%%\n"
    }
   },
   "source": [
    "from datetime import datetime\n",
    "\n",
    "transaction = porto.Transaction(date=datetime(2022, 1, 24),\n",
    "                                ticker=\"AAPL\",\n",
    "                                type=\"Buy\",\n",
    "                                quantity=10,\n",
    "                                price=120.,\n",
    "                                fees=5.,\n",
    "                                currency=\"USD\")\n",
    "\n",
    "portfolio.add_transaction([transaction])\n"
   ],
   "execution_count": 23,
   "outputs": [
    {
     "name": "stderr",
     "output_type": "stream",
     "text": [
      "2022-01-29 11:45:24,333:ERROR:Example: Not enough funds to perform this transaction, missing 1200.0 to complete: in add_transaction\n"
     ]
    }
   ]
  },
  {
   "cell_type": "markdown",
   "source": [
    "We need to have funds to perform transactions"
   ],
   "metadata": {
    "collapsed": false
   }
  },
  {
   "cell_type": "code",
   "execution_count": 24,
   "outputs": [
    {
     "name": "stderr",
     "output_type": "stream",
     "text": [
      "2022-01-29 11:45:24,977:INFO:cash change for Example have been added: in add_cash_change\n"
     ]
    }
   ],
   "source": [
    "portfolio.add_cash_change(date=datetime(2022, 1, 1), direction=\"Deposit\", amount=1_000_000)"
   ],
   "metadata": {
    "collapsed": false,
    "pycharm": {
     "name": "#%%\n"
    }
   }
  },
  {
   "cell_type": "markdown",
   "source": [
    "Now we can add a transaction"
   ],
   "metadata": {
    "collapsed": false
   }
  },
  {
   "cell_type": "code",
   "execution_count": 25,
   "outputs": [
    {
     "name": "stderr",
     "output_type": "stream",
     "text": [
      "2022-01-29 11:45:25,490:INFO:Transaction - 2022-01-24 - AAPL was added to account: Example: in add\n"
     ]
    }
   ],
   "source": [
    "portfolio.add_transaction([transaction])"
   ],
   "metadata": {
    "collapsed": false,
    "pycharm": {
     "name": "#%%\n"
    }
   }
  },
  {
   "cell_type": "code",
   "execution_count": 26,
   "outputs": [
    {
     "data": {
      "text/plain": "{'AAPL': AAPL}"
     },
     "execution_count": 26,
     "metadata": {},
     "output_type": "execute_result"
    }
   ],
   "source": [
    "portfolio.positions"
   ],
   "metadata": {
    "collapsed": false,
    "pycharm": {
     "name": "#%%\n"
    }
   }
  },
  {
   "cell_type": "code",
   "execution_count": 27,
   "outputs": [
    {
     "name": "stdout",
     "output_type": "stream",
     "text": [
      "Empty DataFrame\n",
      "Columns: [unrealized, realized, dividend, total]\n",
      "Index: []\n"
     ]
    }
   ],
   "source": [
    "aapl = porto.Position(ticker='AAPL', currency='USD')\n",
    "\n",
    "print(aapl.daily_pnl())"
   ],
   "metadata": {
    "collapsed": false,
    "pycharm": {
     "name": "#%%\n"
    }
   }
  }
 ],
 "metadata": {
  "kernelspec": {
   "display_name": "Python 3 (ipykernel)",
   "language": "python",
   "name": "python3"
  },
  "language_info": {
   "codemirror_mode": {
    "name": "ipython",
    "version": 3
   },
   "file_extension": ".py",
   "mimetype": "text/x-python",
   "name": "python",
   "nbconvert_exporter": "python",
   "pygments_lexer": "ipython3",
   "version": "3.8.12"
  }
 },
 "nbformat": 4,
 "nbformat_minor": 1
}